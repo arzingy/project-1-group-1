{
 "cells": [
  {
   "cell_type": "code",
   "execution_count": 349,
   "id": "92b59862-7e05-4c62-b23d-b92a271d2820",
   "metadata": {},
   "outputs": [
    {
     "data": {
      "text/plain": [
       "'%matplotlib inline'"
      ]
     },
     "execution_count": 349,
     "metadata": {},
     "output_type": "execute_result"
    }
   ],
   "source": [
    "\"%matplotlib inline\""
   ]
  },
  {
   "cell_type": "code",
   "execution_count": 3,
   "id": "2b17c381-3688-42b9-91dc-f78ee9fa068a",
   "metadata": {},
   "outputs": [],
   "source": [
    "import pandas as pd"
   ]
  },
  {
   "cell_type": "code",
   "execution_count": 5,
   "id": "429e1859-172e-43aa-b027-0cc79742a9c7",
   "metadata": {},
   "outputs": [],
   "source": [
    "from matplotlib import pyplot as plt"
   ]
  },
  {
   "cell_type": "code",
   "execution_count": 71,
   "id": "2fdd9e41-2d23-4056-ae39-0aa6c2cbd5e2",
   "metadata": {},
   "outputs": [],
   "source": [
    "import scipy.stats as st"
   ]
  },
  {
   "cell_type": "code",
   "execution_count": 73,
   "id": "fb5f429b-a729-4be2-b9f7-42a31f71ea49",
   "metadata": {},
   "outputs": [],
   "source": [
    "import numpy as np"
   ]
  },
  {
   "cell_type": "code",
   "execution_count": null,
   "id": "b34df714-8dcb-4f3a-9777-3594d8969980",
   "metadata": {},
   "outputs": [],
   "source": [
    "#read the data"
   ]
  },
  {
   "cell_type": "code",
   "execution_count": 21,
   "id": "a215c4f7-390d-40e6-bf2c-2ae04297a83e",
   "metadata": {},
   "outputs": [],
   "source": [
    "alzheimers_prediction_dataset = pd.read_csv('alzheimers_prediction_dataset.csv')"
   ]
  },
  {
   "cell_type": "code",
   "execution_count": 238,
   "id": "6cdaa0d8-0076-413b-aad7-7169f40bc8a6",
   "metadata": {},
   "outputs": [
    {
     "data": {
      "text/html": [
       "<div>\n",
       "<style scoped>\n",
       "    .dataframe tbody tr th:only-of-type {\n",
       "        vertical-align: middle;\n",
       "    }\n",
       "\n",
       "    .dataframe tbody tr th {\n",
       "        vertical-align: top;\n",
       "    }\n",
       "\n",
       "    .dataframe thead th {\n",
       "        text-align: right;\n",
       "    }\n",
       "</style>\n",
       "<table border=\"1\" class=\"dataframe\">\n",
       "  <thead>\n",
       "    <tr style=\"text-align: right;\">\n",
       "      <th></th>\n",
       "      <th>Country</th>\n",
       "      <th>Age</th>\n",
       "      <th>Gender</th>\n",
       "      <th>Education Level</th>\n",
       "      <th>BMI</th>\n",
       "      <th>Physical Activity Level</th>\n",
       "      <th>Smoking Status</th>\n",
       "      <th>Alcohol Consumption</th>\n",
       "      <th>Diabetes</th>\n",
       "      <th>Hypertension</th>\n",
       "      <th>...</th>\n",
       "      <th>Dietary Habits</th>\n",
       "      <th>Air Pollution Exposure</th>\n",
       "      <th>Employment Status</th>\n",
       "      <th>Marital Status</th>\n",
       "      <th>Genetic Risk Factor (APOE-ε4 allele)</th>\n",
       "      <th>Social Engagement Level</th>\n",
       "      <th>Income Level</th>\n",
       "      <th>Stress Levels</th>\n",
       "      <th>Urban vs Rural Living</th>\n",
       "      <th>Alzheimer’s Diagnosis</th>\n",
       "    </tr>\n",
       "  </thead>\n",
       "  <tbody>\n",
       "    <tr>\n",
       "      <th>0</th>\n",
       "      <td>Spain</td>\n",
       "      <td>90</td>\n",
       "      <td>Male</td>\n",
       "      <td>1</td>\n",
       "      <td>33.0</td>\n",
       "      <td>Medium</td>\n",
       "      <td>Never</td>\n",
       "      <td>Occasionally</td>\n",
       "      <td>No</td>\n",
       "      <td>No</td>\n",
       "      <td>...</td>\n",
       "      <td>Healthy</td>\n",
       "      <td>High</td>\n",
       "      <td>Retired</td>\n",
       "      <td>Single</td>\n",
       "      <td>No</td>\n",
       "      <td>Low</td>\n",
       "      <td>Medium</td>\n",
       "      <td>High</td>\n",
       "      <td>Urban</td>\n",
       "      <td>No</td>\n",
       "    </tr>\n",
       "    <tr>\n",
       "      <th>1</th>\n",
       "      <td>Argentina</td>\n",
       "      <td>72</td>\n",
       "      <td>Male</td>\n",
       "      <td>7</td>\n",
       "      <td>29.9</td>\n",
       "      <td>Medium</td>\n",
       "      <td>Former</td>\n",
       "      <td>Never</td>\n",
       "      <td>No</td>\n",
       "      <td>No</td>\n",
       "      <td>...</td>\n",
       "      <td>Healthy</td>\n",
       "      <td>Medium</td>\n",
       "      <td>Unemployed</td>\n",
       "      <td>Widowed</td>\n",
       "      <td>No</td>\n",
       "      <td>High</td>\n",
       "      <td>Low</td>\n",
       "      <td>High</td>\n",
       "      <td>Urban</td>\n",
       "      <td>No</td>\n",
       "    </tr>\n",
       "    <tr>\n",
       "      <th>2</th>\n",
       "      <td>South Africa</td>\n",
       "      <td>86</td>\n",
       "      <td>Female</td>\n",
       "      <td>19</td>\n",
       "      <td>22.9</td>\n",
       "      <td>High</td>\n",
       "      <td>Current</td>\n",
       "      <td>Occasionally</td>\n",
       "      <td>No</td>\n",
       "      <td>Yes</td>\n",
       "      <td>...</td>\n",
       "      <td>Average</td>\n",
       "      <td>Medium</td>\n",
       "      <td>Employed</td>\n",
       "      <td>Single</td>\n",
       "      <td>No</td>\n",
       "      <td>Low</td>\n",
       "      <td>Medium</td>\n",
       "      <td>High</td>\n",
       "      <td>Rural</td>\n",
       "      <td>No</td>\n",
       "    </tr>\n",
       "    <tr>\n",
       "      <th>3</th>\n",
       "      <td>China</td>\n",
       "      <td>53</td>\n",
       "      <td>Male</td>\n",
       "      <td>17</td>\n",
       "      <td>31.2</td>\n",
       "      <td>Low</td>\n",
       "      <td>Never</td>\n",
       "      <td>Regularly</td>\n",
       "      <td>Yes</td>\n",
       "      <td>No</td>\n",
       "      <td>...</td>\n",
       "      <td>Healthy</td>\n",
       "      <td>Medium</td>\n",
       "      <td>Retired</td>\n",
       "      <td>Single</td>\n",
       "      <td>No</td>\n",
       "      <td>High</td>\n",
       "      <td>Medium</td>\n",
       "      <td>Low</td>\n",
       "      <td>Rural</td>\n",
       "      <td>No</td>\n",
       "    </tr>\n",
       "    <tr>\n",
       "      <th>4</th>\n",
       "      <td>Sweden</td>\n",
       "      <td>58</td>\n",
       "      <td>Female</td>\n",
       "      <td>3</td>\n",
       "      <td>30.0</td>\n",
       "      <td>High</td>\n",
       "      <td>Former</td>\n",
       "      <td>Never</td>\n",
       "      <td>Yes</td>\n",
       "      <td>No</td>\n",
       "      <td>...</td>\n",
       "      <td>Unhealthy</td>\n",
       "      <td>High</td>\n",
       "      <td>Employed</td>\n",
       "      <td>Married</td>\n",
       "      <td>No</td>\n",
       "      <td>Low</td>\n",
       "      <td>Medium</td>\n",
       "      <td>High</td>\n",
       "      <td>Rural</td>\n",
       "      <td>No</td>\n",
       "    </tr>\n",
       "    <tr>\n",
       "      <th>...</th>\n",
       "      <td>...</td>\n",
       "      <td>...</td>\n",
       "      <td>...</td>\n",
       "      <td>...</td>\n",
       "      <td>...</td>\n",
       "      <td>...</td>\n",
       "      <td>...</td>\n",
       "      <td>...</td>\n",
       "      <td>...</td>\n",
       "      <td>...</td>\n",
       "      <td>...</td>\n",
       "      <td>...</td>\n",
       "      <td>...</td>\n",
       "      <td>...</td>\n",
       "      <td>...</td>\n",
       "      <td>...</td>\n",
       "      <td>...</td>\n",
       "      <td>...</td>\n",
       "      <td>...</td>\n",
       "      <td>...</td>\n",
       "      <td>...</td>\n",
       "    </tr>\n",
       "    <tr>\n",
       "      <th>74278</th>\n",
       "      <td>Russia</td>\n",
       "      <td>60</td>\n",
       "      <td>Female</td>\n",
       "      <td>3</td>\n",
       "      <td>22.6</td>\n",
       "      <td>High</td>\n",
       "      <td>Former</td>\n",
       "      <td>Never</td>\n",
       "      <td>No</td>\n",
       "      <td>No</td>\n",
       "      <td>...</td>\n",
       "      <td>Average</td>\n",
       "      <td>High</td>\n",
       "      <td>Unemployed</td>\n",
       "      <td>Widowed</td>\n",
       "      <td>No</td>\n",
       "      <td>Medium</td>\n",
       "      <td>High</td>\n",
       "      <td>Medium</td>\n",
       "      <td>Rural</td>\n",
       "      <td>No</td>\n",
       "    </tr>\n",
       "    <tr>\n",
       "      <th>74279</th>\n",
       "      <td>UK</td>\n",
       "      <td>58</td>\n",
       "      <td>Male</td>\n",
       "      <td>18</td>\n",
       "      <td>30.6</td>\n",
       "      <td>Low</td>\n",
       "      <td>Never</td>\n",
       "      <td>Occasionally</td>\n",
       "      <td>Yes</td>\n",
       "      <td>No</td>\n",
       "      <td>...</td>\n",
       "      <td>Average</td>\n",
       "      <td>Medium</td>\n",
       "      <td>Unemployed</td>\n",
       "      <td>Single</td>\n",
       "      <td>No</td>\n",
       "      <td>Medium</td>\n",
       "      <td>High</td>\n",
       "      <td>High</td>\n",
       "      <td>Rural</td>\n",
       "      <td>No</td>\n",
       "    </tr>\n",
       "    <tr>\n",
       "      <th>74280</th>\n",
       "      <td>Spain</td>\n",
       "      <td>57</td>\n",
       "      <td>Female</td>\n",
       "      <td>13</td>\n",
       "      <td>28.2</td>\n",
       "      <td>Medium</td>\n",
       "      <td>Never</td>\n",
       "      <td>Regularly</td>\n",
       "      <td>No</td>\n",
       "      <td>No</td>\n",
       "      <td>...</td>\n",
       "      <td>Healthy</td>\n",
       "      <td>Low</td>\n",
       "      <td>Employed</td>\n",
       "      <td>Single</td>\n",
       "      <td>Yes</td>\n",
       "      <td>High</td>\n",
       "      <td>Low</td>\n",
       "      <td>Low</td>\n",
       "      <td>Rural</td>\n",
       "      <td>No</td>\n",
       "    </tr>\n",
       "    <tr>\n",
       "      <th>74281</th>\n",
       "      <td>Brazil</td>\n",
       "      <td>73</td>\n",
       "      <td>Female</td>\n",
       "      <td>7</td>\n",
       "      <td>29.0</td>\n",
       "      <td>Low</td>\n",
       "      <td>Never</td>\n",
       "      <td>Regularly</td>\n",
       "      <td>No</td>\n",
       "      <td>No</td>\n",
       "      <td>...</td>\n",
       "      <td>Healthy</td>\n",
       "      <td>Low</td>\n",
       "      <td>Employed</td>\n",
       "      <td>Widowed</td>\n",
       "      <td>No</td>\n",
       "      <td>Low</td>\n",
       "      <td>Low</td>\n",
       "      <td>High</td>\n",
       "      <td>Rural</td>\n",
       "      <td>No</td>\n",
       "    </tr>\n",
       "    <tr>\n",
       "      <th>74282</th>\n",
       "      <td>Norway</td>\n",
       "      <td>57</td>\n",
       "      <td>Female</td>\n",
       "      <td>1</td>\n",
       "      <td>31.7</td>\n",
       "      <td>Low</td>\n",
       "      <td>Current</td>\n",
       "      <td>Regularly</td>\n",
       "      <td>No</td>\n",
       "      <td>No</td>\n",
       "      <td>...</td>\n",
       "      <td>Average</td>\n",
       "      <td>Low</td>\n",
       "      <td>Unemployed</td>\n",
       "      <td>Single</td>\n",
       "      <td>No</td>\n",
       "      <td>Low</td>\n",
       "      <td>Medium</td>\n",
       "      <td>Medium</td>\n",
       "      <td>Urban</td>\n",
       "      <td>No</td>\n",
       "    </tr>\n",
       "  </tbody>\n",
       "</table>\n",
       "<p>74283 rows × 25 columns</p>\n",
       "</div>"
      ],
      "text/plain": [
       "            Country  Age  Gender  Education Level   BMI  \\\n",
       "0             Spain   90    Male                1  33.0   \n",
       "1         Argentina   72    Male                7  29.9   \n",
       "2      South Africa   86  Female               19  22.9   \n",
       "3             China   53    Male               17  31.2   \n",
       "4            Sweden   58  Female                3  30.0   \n",
       "...             ...  ...     ...              ...   ...   \n",
       "74278        Russia   60  Female                3  22.6   \n",
       "74279            UK   58    Male               18  30.6   \n",
       "74280         Spain   57  Female               13  28.2   \n",
       "74281        Brazil   73  Female                7  29.0   \n",
       "74282        Norway   57  Female                1  31.7   \n",
       "\n",
       "      Physical Activity Level Smoking Status Alcohol Consumption Diabetes  \\\n",
       "0                      Medium          Never        Occasionally       No   \n",
       "1                      Medium         Former               Never       No   \n",
       "2                        High        Current        Occasionally       No   \n",
       "3                         Low          Never           Regularly      Yes   \n",
       "4                        High         Former               Never      Yes   \n",
       "...                       ...            ...                 ...      ...   \n",
       "74278                    High         Former               Never       No   \n",
       "74279                     Low          Never        Occasionally      Yes   \n",
       "74280                  Medium          Never           Regularly       No   \n",
       "74281                     Low          Never           Regularly       No   \n",
       "74282                     Low        Current           Regularly       No   \n",
       "\n",
       "      Hypertension  ... Dietary Habits Air Pollution Exposure  \\\n",
       "0               No  ...        Healthy                   High   \n",
       "1               No  ...        Healthy                 Medium   \n",
       "2              Yes  ...        Average                 Medium   \n",
       "3               No  ...        Healthy                 Medium   \n",
       "4               No  ...      Unhealthy                   High   \n",
       "...            ...  ...            ...                    ...   \n",
       "74278           No  ...        Average                   High   \n",
       "74279           No  ...        Average                 Medium   \n",
       "74280           No  ...        Healthy                    Low   \n",
       "74281           No  ...        Healthy                    Low   \n",
       "74282           No  ...        Average                    Low   \n",
       "\n",
       "       Employment Status Marital Status Genetic Risk Factor (APOE-ε4 allele)  \\\n",
       "0                Retired         Single                                   No   \n",
       "1             Unemployed        Widowed                                   No   \n",
       "2               Employed         Single                                   No   \n",
       "3                Retired         Single                                   No   \n",
       "4               Employed        Married                                   No   \n",
       "...                  ...            ...                                  ...   \n",
       "74278         Unemployed        Widowed                                   No   \n",
       "74279         Unemployed         Single                                   No   \n",
       "74280           Employed         Single                                  Yes   \n",
       "74281           Employed        Widowed                                   No   \n",
       "74282         Unemployed         Single                                   No   \n",
       "\n",
       "      Social Engagement Level Income Level Stress Levels  \\\n",
       "0                         Low       Medium          High   \n",
       "1                        High          Low          High   \n",
       "2                         Low       Medium          High   \n",
       "3                        High       Medium           Low   \n",
       "4                         Low       Medium          High   \n",
       "...                       ...          ...           ...   \n",
       "74278                  Medium         High        Medium   \n",
       "74279                  Medium         High          High   \n",
       "74280                    High          Low           Low   \n",
       "74281                     Low          Low          High   \n",
       "74282                     Low       Medium        Medium   \n",
       "\n",
       "      Urban vs Rural Living Alzheimer’s Diagnosis  \n",
       "0                     Urban                    No  \n",
       "1                     Urban                    No  \n",
       "2                     Rural                    No  \n",
       "3                     Rural                    No  \n",
       "4                     Rural                    No  \n",
       "...                     ...                   ...  \n",
       "74278                 Rural                    No  \n",
       "74279                 Rural                    No  \n",
       "74280                 Rural                    No  \n",
       "74281                 Rural                    No  \n",
       "74282                 Urban                    No  \n",
       "\n",
       "[74283 rows x 25 columns]"
      ]
     },
     "execution_count": 238,
     "metadata": {},
     "output_type": "execute_result"
    }
   ],
   "source": [
    "alzheimers_prediction_dataset"
   ]
  },
  {
   "cell_type": "code",
   "execution_count": 355,
   "id": "fd8fa241-da88-4d3e-aba1-1e32009946f2",
   "metadata": {},
   "outputs": [],
   "source": [
    "# ids = data ['Alzheimer's Diagnosis']"
   ]
  },
  {
   "cell_type": "code",
   "execution_count": 357,
   "id": "abe4ceba-5674-454f-b834-8df567aded70",
   "metadata": {},
   "outputs": [],
   "source": [
    "# ages = data ['Age']"
   ]
  },
  {
   "cell_type": "code",
   "execution_count": 359,
   "id": "97da6ebe-b093-4dc9-a9d3-aaab0c129286",
   "metadata": {},
   "outputs": [],
   "source": [
    "median_age = 72"
   ]
  },
  {
   "cell_type": "code",
   "execution_count": 361,
   "id": "673febb4-1701-4d0c-826b-fb9944424262",
   "metadata": {},
   "outputs": [],
   "source": [
    "#Sample data"
   ]
  },
  {
   "cell_type": "code",
   "execution_count": 491,
   "id": "f2131d1d-5049-43ed-aaff-04250e350447",
   "metadata": {},
   "outputs": [],
   "source": [
    "df= pd.DataFrame({\"Alzheimer's Diagonsis\" : np.random.choice([\"Yes\", \"No\"],74283 , p=[0.7,0.3])})\n",
    "df\n",
    "df= pd.DataFrame({\"Age\"})"
   ]
  },
  {
   "cell_type": "code",
   "execution_count": 429,
   "id": "eb4f1bbc-1c82-4b55-b965-5253cdc36060",
   "metadata": {},
   "outputs": [
    {
     "data": {
      "text/plain": [
       "Alzheimer's Diagonsis\n",
       "Yes    51761\n",
       "No     22522\n",
       "Name: count, dtype: int64"
      ]
     },
     "execution_count": 429,
     "metadata": {},
     "output_type": "execute_result"
    }
   ],
   "source": [
    "df[\"Alzheimer's Diagonsis\"].value_counts()"
   ]
  },
  {
   "cell_type": "code",
   "execution_count": 427,
   "id": "38174a4b-f243-40ec-a40a-20450cc66e24",
   "metadata": {},
   "outputs": [
    {
     "data": {
      "text/plain": [
       "<Axes: xlabel=\"Alzheimer's Diagonsis\">"
      ]
     },
     "execution_count": 427,
     "metadata": {},
     "output_type": "execute_result"
    },
    {
     "data": {
      "image/png": "[encoded data removed]",
      "text/plain": [
       "<Figure size 640x480 with 1 Axes>"
      ]
     },
     "metadata": {},
     "output_type": "display_data"
    }
   ],
   "source": [
    "df[\"Alzheimer's Diagonsis\"].value_counts().plot(kind=\"bar\")"
   ]
  },
  {
   "cell_type": "code",
   "execution_count": 489,
   "id": "2f47b6d0-bd79-43b5-bbc6-695a2736c3b4",
   "metadata": {},
   "outputs": [
    {
     "data": {
      "image/png": "[encoded data removed]",
      "text/plain": [
       "<Figure size 640x480 with 1 Axes>"
      ]
     },
     "metadata": {},
     "output_type": "display_data"
    }
   ],
   "source": [
    "#Plot Histogram Chart\n",
    "x = np.random.randint( 50, 60, 100)\n",
    "\n",
    "plt.hist(Age,bins=8, rwidth=0.5, histtype = \"bar\", orientation= 'vertical', color = \"b\", label = \"Age when Diagnosed\") \n",
    "plt.xlabel(\"Ages\")\n",
    "plt.ylabel(\"Alzheimer's Diagonsis\")\n",
    "plt.savefig(\"Age Prediction.png\")\n",
    "plt.legend(title=\"Alzheimer's Diagonsis\")\n",
    "plt.show()"
   ]
  },
  {
   "cell_type": "code",
   "execution_count": 461,
   "id": "1b6fb4f0-87f5-44aa-a6b9-9f25863cff6a",
   "metadata": {},
   "outputs": [],
   "source": [
    "categories = [\"Age\", \"Alzheimer's Diagonsis\"]\n",
    "group1_values = [50-100]\n",
    "group2_values = [\"Yes\", \"No\"]"
   ]
  },
  {
   "cell_type": "code",
   "execution_count": 477,
   "id": "073d479b-892e-4c42-a473-5479c05d4775",
   "metadata": {},
   "outputs": [
    {
     "data": {
      "image/png": "[encoded data removed]",
      "text/plain": [
       "<Figure size 640x480 with 1 Axes>"
      ]
     },
     "metadata": {},
     "output_type": "display_data"
    }
   ],
   "source": [
    "x = np.arange(len(categories))\n",
    "width = 0.5\n",
    "plt.bar(x,group1_values,width=0.5, label='Age')\n",
    "plt.bar(x, group2_values, width=0.5 , bottom=group1_values, label=\"Alzheimer's Diagonsis\")\n",
    "plt.xticks(x, categories)\n",
    "plt.ylabel(\"Alzheimer's Diagonsis\")       \n",
    "plt.title(\"Diagonsis Yes or No\")\n",
    "plt.legend()\n",
    "plt.show()"
   ]
  },
  {
   "cell_type": "code",
   "execution_count": null,
   "id": "d6131706-6b00-4f71-b9e7-a17999b14c8f",
   "metadata": {},
   "outputs": [],
   "source": []
  }
 ],
 "metadata": {
  "kernelspec": {
   "display_name": "Python [conda env:base] *",
   "language": "python",
   "name": "conda-base-py"
  },
  "language_info": {
   "codemirror_mode": {
    "name": "ipython",
    "version": 3
   },
   "file_extension": ".py",
   "mimetype": "text/x-python",
   "name": "python",
   "nbconvert_exporter": "python",
   "pygments_lexer": "ipython3",
   "version": "3.12.7"
  }
 },
 "nbformat": 4,
 "nbformat_minor": 5
}
